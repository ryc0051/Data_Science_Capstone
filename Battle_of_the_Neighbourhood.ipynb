{
 "cells": [
  {
   "cell_type": "markdown",
   "source": [
    "# <center>The Battle of the Neighbourhood</center>"
   ],
   "metadata": {}
  },
  {
   "cell_type": "markdown",
   "source": [
    "## Introduction\r\n",
    "The battle of the neighbourhood is a capstone project for IBM Data Science Professional Cetrified for Data Science.\r\n",
    "\r\n",
    "Question :\r\n",
    "\r\n",
    "Similarly, if a contractor is trying to start their own business, where would you recommend that they setup their office?\r\n",
    "\r\n",
    "I have given my self the question of which region would be suited to set up an air conditioner companies in a region within New Zealand.  This will be based on comparision between the regions of Canterbury.\r\n",
    "\r\n",
    "##  The business problem.\r\n",
    "\r\n",
    "Which location in the two region have area lack converage for heat pump companies compare with PM10 data?\r\n",
    "\r\n",
    "Which of the location have increasing incomes?  Leading to greater ability in purchasing heat pump as opposed to cheaper forms of heating requiring burning \r\n",
    " \r\n",
    " ## Method\r\n",
    "\r\n",
    "Software : \r\n",
    "Python 3.9.2 \r\n",
    "JuptyerNotebook\r\n",
    "Visual Studio Code\r\n",
    "\r\n",
    "\r\n",
    "Data: \r\n",
    "I will be using PM10 from ECAN (Environment Canturbury).  Export data from Stats NZ and FourSquare API for Miscellous.\r\n",
    "\r\n"
   ],
   "metadata": {}
  },
  {
   "cell_type": "code",
   "execution_count": 111,
   "source": [
    "# Import the required libraries\r\n",
    "import pandas as pd\r\n",
    "import requests\r\n",
    "import bs4 as soup\r\n",
    "import io\r\n",
    "import folium\r\n"
   ],
   "outputs": [],
   "metadata": {}
  },
  {
   "cell_type": "markdown",
   "source": [
    "Extract PM10 Data\r\n",
    "\r\n",
    "PM10 is a fine particle that is created mainly from burning fuel sources.  In New Zealand most of the home heating is solid fuel heating woodburner(woodstove).  This is changing however due the stricter standards on air quality for city/town to prevent negative health effects.  \r\n",
    "\r\n",
    "ECAN is the regulatory body for the province of Canturbury.  It task with monitoring and in forcing environmental standards.  As part of this it has a number of PM10 monitoring in it region \r\n",
    "\r\n",
    "https://www.ecan.govt.nz/\r\n",
    "\r\n",
    "\r\n",
    "\r\n",
    "\r\n",
    "\r\n"
   ],
   "metadata": {}
  },
  {
   "cell_type": "code",
   "execution_count": 112,
   "source": [
    "# ECAN Air Quality sites\r\n",
    "ECAN_extract= []\r\n",
    "ECANSiteList =   [7,2,9,4,5,1,10,64,77,3]\r\n",
    "for Site in ECANSiteList:\r\n",
    "    Extraction_Bay = requests.get('http://data.ecan.govt.nz/data/98/Air/Air%20quality%20data%20for%20a%20monitored%20site%20(Daily)/JSON?SiteId='+str(Site)+'&StartDate=01%2F01%2F2020&EndDate=01%2F01%2F2021')\r\n",
    "    ECAN_extract.append(Extraction_Bay.json())\r\n",
    "\r\n"
   ],
   "outputs": [],
   "metadata": {}
  },
  {
   "cell_type": "code",
   "execution_count": 113,
   "source": [
    "AirList = ['item',['DateTime']]\r\n",
    "\r\n",
    "ECAN_list = []\r\n",
    "for i in ECAN_extract:\r\n",
    "    bay = i['data']['item'].copy()\r\n",
    "    ECAN_list = ECAN_list+bay\r\n",
    "    \r\n",
    "\r\n",
    "\r\n",
    "\r\n",
    "ECANRaw = pd.json_normalize(ECAN_list)\r\n",
    "ECAN = ECANRaw[['DateTime','StationName','PM10_x0020__x0028_ug_x002F_m3_x0029_']]\r\n",
    "ECAN.columns = ['DateTime','StationName','PM10']\r\n",
    "ECAN = ECAN[ECAN['PM10'].notnull()].copy()\r\n",
    "ECAN['PM10'] = ECAN.PM10.astype(float).round(1)\r\n",
    "ECAN.head()"
   ],
   "outputs": [
    {
     "output_type": "execute_result",
     "data": {
      "text/plain": [
       "     DateTime StationName  PM10\n",
       "0  2020-01-01   Ashburton  23.7\n",
       "1  2020-01-02   Ashburton  18.8\n",
       "2  2020-01-03   Ashburton   9.7\n",
       "3  2020-01-04   Ashburton  11.5\n",
       "4  2020-01-05   Ashburton  26.0"
      ],
      "text/html": [
       "<div>\n",
       "<style scoped>\n",
       "    .dataframe tbody tr th:only-of-type {\n",
       "        vertical-align: middle;\n",
       "    }\n",
       "\n",
       "    .dataframe tbody tr th {\n",
       "        vertical-align: top;\n",
       "    }\n",
       "\n",
       "    .dataframe thead th {\n",
       "        text-align: right;\n",
       "    }\n",
       "</style>\n",
       "<table border=\"1\" class=\"dataframe\">\n",
       "  <thead>\n",
       "    <tr style=\"text-align: right;\">\n",
       "      <th></th>\n",
       "      <th>DateTime</th>\n",
       "      <th>StationName</th>\n",
       "      <th>PM10</th>\n",
       "    </tr>\n",
       "  </thead>\n",
       "  <tbody>\n",
       "    <tr>\n",
       "      <th>0</th>\n",
       "      <td>2020-01-01</td>\n",
       "      <td>Ashburton</td>\n",
       "      <td>23.7</td>\n",
       "    </tr>\n",
       "    <tr>\n",
       "      <th>1</th>\n",
       "      <td>2020-01-02</td>\n",
       "      <td>Ashburton</td>\n",
       "      <td>18.8</td>\n",
       "    </tr>\n",
       "    <tr>\n",
       "      <th>2</th>\n",
       "      <td>2020-01-03</td>\n",
       "      <td>Ashburton</td>\n",
       "      <td>9.7</td>\n",
       "    </tr>\n",
       "    <tr>\n",
       "      <th>3</th>\n",
       "      <td>2020-01-04</td>\n",
       "      <td>Ashburton</td>\n",
       "      <td>11.5</td>\n",
       "    </tr>\n",
       "    <tr>\n",
       "      <th>4</th>\n",
       "      <td>2020-01-05</td>\n",
       "      <td>Ashburton</td>\n",
       "      <td>26.0</td>\n",
       "    </tr>\n",
       "  </tbody>\n",
       "</table>\n",
       "</div>"
      ]
     },
     "metadata": {},
     "execution_count": 113
    }
   ],
   "metadata": {}
  },
  {
   "cell_type": "markdown",
   "source": [
    "Foursquare is location based data repository.  It stored data relating to venues and check-in of customers which can build a real-time map of customer movements.\r\n",
    "\r\n",
    "URL : https://foursquare.com/\r\n",
    "\r\n"
   ],
   "metadata": {}
  },
  {
   "cell_type": "code",
   "execution_count": 114,
   "source": [
    "CLIENT_ID = 'BBRUYDTJVTG2IYAVIKCHLF1GPKO1WGVTZKNFZJGLQFJKLLRQ' # your Foursquare ID\r\n",
    "CLIENT_SECRET = 'GWHGWMRKZT5TS1UNTRAMKESJXDMTCIBJUIDCSF4DDIR5O1IY' # your Foursquare Secret\r\n",
    "ACCESS_TOKEN = \"VPMLHSDIANMBWYCWV4CI04RSLCAPIGLJR1GRSPTKPPF2ECT0\" # your FourSquare Access Token\r\n",
    "VERSION = '20180604'\r\n",
    "LIMIT = 30\r\n",
    "\r\n"
   ],
   "outputs": [],
   "metadata": {}
  },
  {
   "cell_type": "code",
   "execution_count": 115,
   "source": [
    "Location = pd.unique(ECAN.StationName)\r\n",
    "print(Location)\r\n",
    "\r\n"
   ],
   "outputs": [
    {
     "output_type": "stream",
     "name": "stdout",
     "text": [
      "['Ashburton' 'Geraldine' 'Kaiapoi' 'Rangiora' 'St Albans'\n",
      " 'Timaru Anzac Square' 'Waimate Kennedy' 'Washdyke Alpine' 'Woolston']\n"
     ]
    }
   ],
   "metadata": {}
  },
  {
   "cell_type": "code",
   "execution_count": 116,
   "source": [
    "Dict = {'Location': ['Ashburton', 'Geraldine', 'Kaiapoi', 'Rangiora', 'St Albans',\r\n",
    "       'Timaru Anzac Square', 'Waimate Kennedy', 'Washdyke Alpine',\r\n",
    "       'Woolston'], \r\n",
    "       'Lat': [-43.9054,-44.0923,-43.3788,-43.3032,-43.5320,-44.3904,-44.7327,-44.3539,-43.5473],\r\n",
    "       'Long' : [171.7448,171.2447,172.6623,172.5966,172.6306,171.2373,171.0481,171.2379,172.6791]}\r\n",
    "LatLongdf = pd.DataFrame(data= Dict)\r\n",
    "\r\n",
    "\r\n"
   ],
   "outputs": [],
   "metadata": {}
  },
  {
   "cell_type": "code",
   "execution_count": 117,
   "source": [
    "Town_Lat = LatLongdf.loc[4,'Lat']\r\n",
    "Town_Long = LatLongdf.loc[4,'Long']\r\n",
    "Town_Name = LatLongdf.loc[4,'Location']\r\n",
    "\r\n",
    "print('Latitude and longitude values of {} are {}, {}.'.format(Town_Name, \r\n",
    "                                                               Town_Lat, \r\n",
    "                                                               Town_Long))\r\n"
   ],
   "outputs": [
    {
     "output_type": "stream",
     "name": "stdout",
     "text": [
      "Latitude and longitude values of St Albans are -43.532, 172.6306.\n"
     ]
    }
   ],
   "metadata": {}
  },
  {
   "cell_type": "code",
   "execution_count": 118,
   "source": [
    "radius = 10000\r\n",
    "LIMIT = 100\r\n",
    "\r\n",
    "url = 'https://api.foursquare.com/v2/venues/explore?&client_id={}&client_secret={}&v={}&ll={},{}&radius={}&limit={}'.format(\r\n",
    "    CLIENT_ID, \r\n",
    "    CLIENT_SECRET, \r\n",
    "    VERSION, \r\n",
    "    Town_Lat, \r\n",
    "    Town_Long, \r\n",
    "    radius, \r\n",
    "    LIMIT)\r\n",
    "url # display URL"
   ],
   "outputs": [
    {
     "output_type": "execute_result",
     "data": {
      "text/plain": [
       "'https://api.foursquare.com/v2/venues/explore?&client_id=BBRUYDTJVTG2IYAVIKCHLF1GPKO1WGVTZKNFZJGLQFJKLLRQ&client_secret=GWHGWMRKZT5TS1UNTRAMKESJXDMTCIBJUIDCSF4DDIR5O1IY&v=20180604&ll=-43.532,172.6306&radius=10000&limit=100'"
      ]
     },
     "metadata": {},
     "execution_count": 118
    }
   ],
   "metadata": {}
  },
  {
   "cell_type": "code",
   "execution_count": 119,
   "source": [
    "results = requests.get(url).json()\r\n"
   ],
   "outputs": [],
   "metadata": {}
  },
  {
   "cell_type": "code",
   "execution_count": 120,
   "source": [
    "def get_category_type(row):\r\n",
    "    try:\r\n",
    "        categories_list = row['categories']\r\n",
    "    except:\r\n",
    "        categories_list = row['venue.categories']\r\n",
    "        \r\n",
    "    if len(categories_list) == 0:\r\n",
    "        return None\r\n",
    "    else:\r\n",
    "        return categories_list[0]['name']"
   ],
   "outputs": [],
   "metadata": {}
  },
  {
   "cell_type": "code",
   "execution_count": 121,
   "source": [
    "venues = results['response']['groups'][0]['items']\r\n",
    "    \r\n",
    "nearby_venues = pd.json_normalize(venues) # flatten JSON\r\n",
    "\r\n",
    "# filter columns\r\n",
    "filtered_columns = ['venue.name', 'venue.categories', 'venue.location.lat', 'venue.location.lng']\r\n",
    "nearby_venues =nearby_venues.loc[:, filtered_columns]\r\n",
    "\r\n",
    "# filter the category for each row\r\n",
    "nearby_venues['venue.categories'] = nearby_venues.apply(get_category_type, axis=1)\r\n",
    "\r\n",
    "# clean columns\r\n",
    "nearby_venues.columns = [col.split(\".\")[-1] for col in nearby_venues.columns]\r\n",
    "\r\n",
    "nearby_venues.head()"
   ],
   "outputs": [
    {
     "output_type": "execute_result",
     "data": {
      "text/plain": [
       "                           name        categories        lat         lng\n",
       "0  Christchurch Botanic Gardens  Botanical Garden -43.531092  172.626088\n",
       "1      Christchurch Art Gallery       Art Gallery -43.530479  172.631072\n",
       "2             North Hagley Park              Park -43.528019  172.622495\n",
       "3              YHA Christchurch            Hostel -43.532189  172.629866\n",
       "4        Bacon Brothers Burgers      Burger Joint -43.535845  172.640867"
      ],
      "text/html": [
       "<div>\n",
       "<style scoped>\n",
       "    .dataframe tbody tr th:only-of-type {\n",
       "        vertical-align: middle;\n",
       "    }\n",
       "\n",
       "    .dataframe tbody tr th {\n",
       "        vertical-align: top;\n",
       "    }\n",
       "\n",
       "    .dataframe thead th {\n",
       "        text-align: right;\n",
       "    }\n",
       "</style>\n",
       "<table border=\"1\" class=\"dataframe\">\n",
       "  <thead>\n",
       "    <tr style=\"text-align: right;\">\n",
       "      <th></th>\n",
       "      <th>name</th>\n",
       "      <th>categories</th>\n",
       "      <th>lat</th>\n",
       "      <th>lng</th>\n",
       "    </tr>\n",
       "  </thead>\n",
       "  <tbody>\n",
       "    <tr>\n",
       "      <th>0</th>\n",
       "      <td>Christchurch Botanic Gardens</td>\n",
       "      <td>Botanical Garden</td>\n",
       "      <td>-43.531092</td>\n",
       "      <td>172.626088</td>\n",
       "    </tr>\n",
       "    <tr>\n",
       "      <th>1</th>\n",
       "      <td>Christchurch Art Gallery</td>\n",
       "      <td>Art Gallery</td>\n",
       "      <td>-43.530479</td>\n",
       "      <td>172.631072</td>\n",
       "    </tr>\n",
       "    <tr>\n",
       "      <th>2</th>\n",
       "      <td>North Hagley Park</td>\n",
       "      <td>Park</td>\n",
       "      <td>-43.528019</td>\n",
       "      <td>172.622495</td>\n",
       "    </tr>\n",
       "    <tr>\n",
       "      <th>3</th>\n",
       "      <td>YHA Christchurch</td>\n",
       "      <td>Hostel</td>\n",
       "      <td>-43.532189</td>\n",
       "      <td>172.629866</td>\n",
       "    </tr>\n",
       "    <tr>\n",
       "      <th>4</th>\n",
       "      <td>Bacon Brothers Burgers</td>\n",
       "      <td>Burger Joint</td>\n",
       "      <td>-43.535845</td>\n",
       "      <td>172.640867</td>\n",
       "    </tr>\n",
       "  </tbody>\n",
       "</table>\n",
       "</div>"
      ]
     },
     "metadata": {},
     "execution_count": 121
    }
   ],
   "metadata": {}
  },
  {
   "cell_type": "code",
   "execution_count": 122,
   "source": [
    "#print('{} venues were returned by Foursquare.'.format(nearby_venues.shape[0]))\r\n",
    "Uniquecategory =pd.unique(nearby_venues.categories)\r\n",
    "print(Uniquecategory)"
   ],
   "outputs": [
    {
     "output_type": "stream",
     "name": "stdout",
     "text": [
      "['Botanical Garden' 'Art Gallery' 'Park' 'Hostel' 'Burger Joint'\n",
      " 'Cheese Shop' 'Video Store' 'Arts & Crafts Store' 'Gym' 'History Museum'\n",
      " 'Coffee Shop' 'Café' 'Food Court' 'Lounge' 'Bar' 'Playground' 'Pub'\n",
      " 'Italian Restaurant' 'Gourmet Shop' 'Food Truck' 'Plaza' 'Bakery'\n",
      " 'Supermarket' 'Asian Restaurant' 'Farmers Market' 'Japanese Restaurant'\n",
      " 'Indian Restaurant' 'Dessert Shop' 'Gym / Fitness Center'\n",
      " 'Breakfast Spot' 'Shopping Mall' 'Electronics Store' 'Stadium'\n",
      " 'Modern European Restaurant' 'Chinese Restaurant' 'Boutique'\n",
      " 'Flea Market' 'Pizza Place' 'Wine Bar' 'Basketball Stadium'\n",
      " 'Mexican Restaurant' 'Beach' 'Gastropub' 'Department Store'\n",
      " 'Convenience Store' 'Multiplex' 'Restaurant' 'Airport Lounge' 'Motel'\n",
      " 'Museum' 'Thai Restaurant' 'Hotel' 'Scenic Lookout']\n"
     ]
    }
   ],
   "metadata": {}
  },
  {
   "cell_type": "markdown",
   "source": [
    "Above is  the search the largest location, which is Christchurch.   There is no information regarding home heating or construction supplies in aspects of venues.  I think this due the lack of the knowledge of the Foursquare application, especially due to the name being the same a supermarket in the country.\r\n",
    "\r\n",
    "\r\n",
    "Foursquare is a dead end for the infomation the require to solved my question regarding the best place to set a home heating contracting business.\r\n",
    "\r\n",
    "\r\n",
    "\r\n"
   ],
   "metadata": {}
  },
  {
   "cell_type": "code",
   "execution_count": 123,
   "source": [
    "import "
   ],
   "outputs": [
    {
     "output_type": "error",
     "ename": "SyntaxError",
     "evalue": "invalid syntax (Temp/ipykernel_20292/2494350585.py, line 1)",
     "traceback": [
      "\u001b[1;36m  File \u001b[1;32m\"C:\\Users\\Ryan\\AppData\\Local\\Temp/ipykernel_20292/2494350585.py\"\u001b[1;36m, line \u001b[1;32m1\u001b[0m\n\u001b[1;33m    import\u001b[0m\n\u001b[1;37m           ^\u001b[0m\n\u001b[1;31mSyntaxError\u001b[0m\u001b[1;31m:\u001b[0m invalid syntax\n"
     ]
    }
   ],
   "metadata": {}
  }
 ],
 "metadata": {
  "orig_nbformat": 4,
  "language_info": {
   "name": "python",
   "version": "3.9.6",
   "mimetype": "text/x-python",
   "codemirror_mode": {
    "name": "ipython",
    "version": 3
   },
   "pygments_lexer": "ipython3",
   "nbconvert_exporter": "python",
   "file_extension": ".py"
  },
  "kernelspec": {
   "name": "python3",
   "display_name": "Python 3.9.6 64-bit"
  },
  "interpreter": {
   "hash": "4d169e413c92ad60343a7cad25cff5ee29e59b7f95e85b5ec5d61586091a0e96"
  }
 },
 "nbformat": 4,
 "nbformat_minor": 2
}