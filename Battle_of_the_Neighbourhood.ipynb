{
 "cells": [
  {
   "cell_type": "markdown",
   "source": [
    "# <center>The Battle of the Neighbourhood</center>"
   ],
   "metadata": {}
  },
  {
   "cell_type": "markdown",
   "source": [
    "## Introduction\n",
    "The battle of the neighbourhood is a capstone project for IBM Data Science Professional Cetrified for Data Science.\n",
    "\n",
    "I have given my self the question of which region would be suited to set up an air conditioner companies in a region within New Zealand.  This will be based on comparision between the regions of Canterbury.\n",
    "\n",
    "##  The business problem.\n",
    "\n",
    "Which location in the two region have area lack converage for heat pump companies compare with PM10 data?\n",
    "\n",
    "Which of the location have increasing incomes?  Leading to greater ability in purchasing heat pump as opposed to cheaper forms of heating requiring burning \n",
    " \n",
    " ## Method\n",
    "\n",
    "Software : \n",
    "Python 3.9.2 \n",
    "JuptyerNotebook\n",
    "Visual Studio Code\n",
    "\n",
    "\n",
    "Data: \n",
    "I will be using PM10 from ECAN (Environment Canturbury).  Export data from Stats NZ and FourSquare API for Miscellous.\n",
    "\n"
   ],
   "metadata": {}
  },
  {
   "cell_type": "code",
   "execution_count": 1,
   "source": [
    "# Import the required libraries\n",
    "import pandas as pd\n",
    "import requests\n",
    "import bs4 as soup\n",
    "import io"
   ],
   "outputs": [],
   "metadata": {}
  },
  {
   "cell_type": "markdown",
   "source": [
    "Extract PM10 Data\n",
    "\n",
    "PM10 is a fine particle that is created mainly from burning fuel sources.  In New Zealand most of the home heating is solid fuel heating woodburner(woodstove).  This is changing however due the stricter standards on air quality for city/town to prevent negative health effects.  \n",
    "\n",
    "ECAN is the regulatory body for the province of Canturbury.  It task with monitoring and in forcing environmental standards.  As part of this it has a number of PM10 monitoring in it region \n",
    "\n",
    "https://www.ecan.govt.nz/\n",
    "\n",
    "\n",
    "\n",
    "\n",
    "\n"
   ],
   "metadata": {}
  },
  {
   "cell_type": "code",
   "execution_count": 2,
   "source": [
    "# ECAN Air Quality sites\n",
    "ECAN_extract= []\n",
    "ECANSiteList =   [7,2,9,4,5,1,10,64,77,3]\n",
    "for Site in ECANSiteList:\n",
    "    Extraction_Bay = requests.get('http://data.ecan.govt.nz/data/98/Air/Air%20quality%20data%20for%20a%20monitored%20site%20(Daily)/JSON?SiteId='+str(Site)+'&StartDate=01%2F01%2F2020&EndDate=01%2F01%2F2021')\n",
    "    ECAN_extract.append(Extraction_Bay.json())\n",
    "\n"
   ],
   "outputs": [],
   "metadata": {}
  },
  {
   "cell_type": "code",
   "execution_count": 34,
   "source": [
    "AirList = ['item',['DateTime']]\n",
    "\n",
    "ECAN_list = []\n",
    "for i in ECAN_extract:\n",
    "    bay = i['data']['item'].copy()\n",
    "    ECAN_list = ECAN_list+bay\n",
    "    \n",
    "\n",
    "\n",
    "\n",
    "ECANRaw = pd.json_normalize(ECAN_list)\n",
    "ECAN = ECANRaw[['DateTime','StationName','PM10_x0020__x0028_ug_x002F_m3_x0029_']]\n",
    "ECAN.columns = ['DateTime','StationName','PM10']\n",
    "ECAN = ECAN[ECAN['PM10'].notnull()].copy()\n",
    "ECAN['PM10'] = ECAN.PM10.astype(float).round(1)\n",
    "ECAN.head()"
   ],
   "outputs": [
    {
     "output_type": "execute_result",
     "data": {
      "text/plain": [
       "     DateTime StationName  PM10\n",
       "0  2020-01-01   Ashburton  23.7\n",
       "1  2020-01-02   Ashburton  18.8\n",
       "2  2020-01-03   Ashburton   9.7\n",
       "3  2020-01-04   Ashburton  11.5\n",
       "4  2020-01-05   Ashburton  26.0"
      ],
      "text/html": [
       "<div>\n",
       "<style scoped>\n",
       "    .dataframe tbody tr th:only-of-type {\n",
       "        vertical-align: middle;\n",
       "    }\n",
       "\n",
       "    .dataframe tbody tr th {\n",
       "        vertical-align: top;\n",
       "    }\n",
       "\n",
       "    .dataframe thead th {\n",
       "        text-align: right;\n",
       "    }\n",
       "</style>\n",
       "<table border=\"1\" class=\"dataframe\">\n",
       "  <thead>\n",
       "    <tr style=\"text-align: right;\">\n",
       "      <th></th>\n",
       "      <th>DateTime</th>\n",
       "      <th>StationName</th>\n",
       "      <th>PM10</th>\n",
       "    </tr>\n",
       "  </thead>\n",
       "  <tbody>\n",
       "    <tr>\n",
       "      <th>0</th>\n",
       "      <td>2020-01-01</td>\n",
       "      <td>Ashburton</td>\n",
       "      <td>23.7</td>\n",
       "    </tr>\n",
       "    <tr>\n",
       "      <th>1</th>\n",
       "      <td>2020-01-02</td>\n",
       "      <td>Ashburton</td>\n",
       "      <td>18.8</td>\n",
       "    </tr>\n",
       "    <tr>\n",
       "      <th>2</th>\n",
       "      <td>2020-01-03</td>\n",
       "      <td>Ashburton</td>\n",
       "      <td>9.7</td>\n",
       "    </tr>\n",
       "    <tr>\n",
       "      <th>3</th>\n",
       "      <td>2020-01-04</td>\n",
       "      <td>Ashburton</td>\n",
       "      <td>11.5</td>\n",
       "    </tr>\n",
       "    <tr>\n",
       "      <th>4</th>\n",
       "      <td>2020-01-05</td>\n",
       "      <td>Ashburton</td>\n",
       "      <td>26.0</td>\n",
       "    </tr>\n",
       "  </tbody>\n",
       "</table>\n",
       "</div>"
      ]
     },
     "metadata": {},
     "execution_count": 34
    }
   ],
   "metadata": {}
  },
  {
   "cell_type": "code",
   "execution_count": null,
   "source": [],
   "outputs": [],
   "metadata": {}
  },
  {
   "cell_type": "code",
   "execution_count": null,
   "source": [],
   "outputs": [],
   "metadata": {}
  }
 ],
 "metadata": {
  "orig_nbformat": 4,
  "language_info": {
   "name": "python",
   "version": "3.9.2",
   "mimetype": "text/x-python",
   "codemirror_mode": {
    "name": "ipython",
    "version": 3
   },
   "pygments_lexer": "ipython3",
   "nbconvert_exporter": "python",
   "file_extension": ".py"
  },
  "kernelspec": {
   "name": "python3",
   "display_name": "Python 3.9.2 64-bit"
  },
  "interpreter": {
   "hash": "e7370f93d1d0cde622a1f8e1c04877d8463912d04d973331ad4851f04de6915a"
  }
 },
 "nbformat": 4,
 "nbformat_minor": 2
}